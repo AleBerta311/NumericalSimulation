{
 "cells": [
  {
   "cell_type": "markdown",
   "id": "ec3219a5-e0f7-4e5a-a5f9-102e24260c8d",
   "metadata": {},
   "source": [
    "# <span style=\"color:green\"> Numerical Simulation Laboratory (NSL) </span>\n",
    "## <span style=\"color:black\">  Lecture 12</span>\n",
    "### Made by Alessandro Bertarelli"
   ]
  },
  {
   "cell_type": "markdown",
   "id": "437903b2-c727-4625-885a-f27f8bb33997",
   "metadata": {},
   "source": [
    "Same exercise but using a Convolutional Neural Network"
   ]
  },
  {
   "cell_type": "code",
   "execution_count": 1,
   "id": "4101224c-fb12-475d-b8f1-dc88779da9b4",
   "metadata": {},
   "outputs": [
    {
     "name": "stderr",
     "output_type": "stream",
     "text": [
      "2024-06-11 14:26:20.184537: I tensorflow/core/platform/cpu_feature_guard.cc:182] This TensorFlow binary is optimized to use available CPU instructions in performance-critical operations.\n",
      "To enable the following instructions: SSE4.1 SSE4.2 AVX AVX2 FMA, in other operations, rebuild TensorFlow with the appropriate compiler flags.\n"
     ]
    }
   ],
   "source": [
    "import tensorflow as tf\n",
    "from tensorflow import keras\n",
    "import os\n",
    "import numpy as np\n",
    "import matplotlib.pyplot as plt\n",
    "seed=0\n",
    "np.random.seed(seed) # fix random seed\n",
    "tf.random.set_seed(seed)"
   ]
  },
  {
   "cell_type": "code",
   "execution_count": 2,
   "id": "db1133a9-cdb9-47db-b2f8-ffb0824d94c0",
   "metadata": {},
   "outputs": [
    {
     "name": "stdout",
     "output_type": "stream",
     "text": [
      "X_train shape: (60000, 28, 28)\n",
      "Y_train shape: (60000,)\n",
      "X_test shape: (10000, 28, 28)\n",
      "Y_test shape: (10000,)\n"
     ]
    }
   ],
   "source": [
    "from keras.datasets import mnist\n",
    "\n",
    "# input image dimensions\n",
    "img_rows, img_cols = 28, 28 # number of pixels \n",
    "# output\n",
    "num_classes = 10 # 10 digits, 0--> 9\n",
    "\n",
    "# the data, split between train and test sets\n",
    "(X_train, Y_train), (X_test, Y_test) = mnist.load_data()\n",
    "\n",
    "print('X_train shape:', X_train.shape)\n",
    "print('Y_train shape:', Y_train.shape)\n",
    "\n",
    "print('X_test shape:', X_test.shape)\n",
    "print('Y_test shape:', Y_test.shape)"
   ]
  },
  {
   "cell_type": "code",
   "execution_count": 5,
   "id": "7d377b02-4b99-46f9-8eaf-5d10b19ef091",
   "metadata": {},
   "outputs": [],
   "source": [
    "from keras.utils import to_categorical\n",
    "\n",
    "# reshape data, depending on Keras backend\n",
    "if keras.backend.image_data_format() == 'channels_first':\n",
    "    X_train = X_train.reshape(X_train.shape[0], 1, img_rows, img_cols)\n",
    "    X_test = X_test.reshape(X_test.shape[0], 1, img_rows, img_cols)\n",
    "    input_shape = (1, img_rows, img_cols)\n",
    "else:\n",
    "    X_train = X_train.reshape(X_train.shape[0], img_rows, img_cols, 1)\n",
    "    X_test = X_test.reshape(X_test.shape[0], img_rows, img_cols, 1)\n",
    "    input_shape = (img_rows, img_cols, 1)\n",
    "\n",
    "Y_train = to_categorical(Y_train, num_classes)\n",
    "Y_test = to_categorical(Y_test, num_classes)"
   ]
  },
  {
   "cell_type": "code",
   "execution_count": 38,
   "id": "783cb5d3-f129-4722-947f-257011ffc323",
   "metadata": {},
   "outputs": [],
   "source": [
    "from keras.layers import Flatten, Conv2D, MaxPooling2D, Dense, Dropout\n",
    "from keras import Sequential\n",
    "def create_CNN():\n",
    "    # instantiate model (i'm using more than 10 filters because it seems to work better)\n",
    "    model = Sequential()\n",
    "    model.add(Conv2D(32, kernel_size=(3, 3),\n",
    "                     activation='relu',\n",
    "                     input_shape=input_shape))\n",
    "    \n",
    "\n",
    "    model.add(MaxPooling2D(pool_size = (2,2)))\n",
    "\n",
    "    model.add(Conv2D(64, kernel_size=(3, 3),\n",
    "                     activation='relu',\n",
    "                     input_shape=input_shape))\n",
    "\n",
    "    model.add(MaxPooling2D(pool_size = (2,2)))\n",
    "    \n",
    "    model.add(Flatten()) ##needed to pass data to the final DNN\n",
    "    model.add(Dense(128, activation = 'relu'))\n",
    "    model.add(Dense(num_classes, activation = 'softmax'))\n",
    "    # compile the model\n",
    "    model.compile(loss=keras.losses.categorical_crossentropy,\n",
    "                  optimizer='Adam',\n",
    "                  metrics=['acc'])\n",
    "    return model"
   ]
  },
  {
   "cell_type": "code",
   "execution_count": 9,
   "id": "4a59365d-9c8d-4ec0-923d-3736dbd16050",
   "metadata": {},
   "outputs": [
    {
     "name": "stderr",
     "output_type": "stream",
     "text": [
      "2024-06-11 14:29:11.902432: I tensorflow/core/common_runtime/process_util.cc:146] Creating new thread pool with default inter op setting: 2. Tune using inter_op_parallelism_threads for best performance.\n"
     ]
    },
    {
     "name": "stdout",
     "output_type": "stream",
     "text": [
      "Epoch 1/40\n",
      "235/235 [==============================] - 26s 108ms/step - loss: 1.3479 - acc: 0.8858 - val_loss: 0.0857 - val_acc: 0.9749\n",
      "Epoch 2/40\n",
      "235/235 [==============================] - 26s 109ms/step - loss: 0.0735 - acc: 0.9779 - val_loss: 0.0677 - val_acc: 0.9794\n",
      "Epoch 3/40\n",
      "235/235 [==============================] - 25s 106ms/step - loss: 0.0441 - acc: 0.9867 - val_loss: 0.0499 - val_acc: 0.9840\n",
      "Epoch 4/40\n",
      "235/235 [==============================] - 27s 117ms/step - loss: 0.0299 - acc: 0.9910 - val_loss: 0.0493 - val_acc: 0.9868\n",
      "Epoch 5/40\n",
      "235/235 [==============================] - 25s 107ms/step - loss: 0.0208 - acc: 0.9936 - val_loss: 0.0497 - val_acc: 0.9846\n",
      "Epoch 6/40\n",
      "235/235 [==============================] - 26s 112ms/step - loss: 0.0157 - acc: 0.9950 - val_loss: 0.0476 - val_acc: 0.9868\n",
      "Epoch 7/40\n",
      "235/235 [==============================] - 25s 108ms/step - loss: 0.0121 - acc: 0.9960 - val_loss: 0.0385 - val_acc: 0.9890\n",
      "Epoch 8/40\n",
      "235/235 [==============================] - 26s 109ms/step - loss: 0.0103 - acc: 0.9965 - val_loss: 0.0514 - val_acc: 0.9874\n",
      "Epoch 9/40\n",
      "235/235 [==============================] - 26s 110ms/step - loss: 0.0076 - acc: 0.9976 - val_loss: 0.0410 - val_acc: 0.9897\n",
      "Epoch 10/40\n",
      "235/235 [==============================] - 25s 106ms/step - loss: 0.0062 - acc: 0.9981 - val_loss: 0.0499 - val_acc: 0.9876\n",
      "Epoch 11/40\n",
      "235/235 [==============================] - 26s 109ms/step - loss: 0.0157 - acc: 0.9948 - val_loss: 0.0530 - val_acc: 0.9867\n",
      "Epoch 12/40\n",
      "235/235 [==============================] - 26s 110ms/step - loss: 0.0130 - acc: 0.9952 - val_loss: 0.0548 - val_acc: 0.9865\n",
      "313/313 [==============================] - 2s 7ms/step - loss: 0.0548 - acc: 0.9865\n",
      "\n",
      "Test loss: 0.054786164313554764\n",
      "Test accuracy: 0.9865000247955322\n"
     ]
    }
   ],
   "source": [
    "from tensorflow.keras.callbacks import EarlyStopping\n",
    "early_stopping = EarlyStopping(monitor='val_loss', patience=5)\n",
    "\n",
    "\n",
    "# training parameters\n",
    "batch_size = 256\n",
    "epochs = 40\n",
    "\n",
    "# create the deep conv net\n",
    "model_CNN=create_CNN()\n",
    "\n",
    "# train CNN\n",
    "history = model_CNN.fit(X_train, Y_train,\n",
    "          batch_size=batch_size,\n",
    "          epochs=epochs,\n",
    "          verbose=1,\n",
    "          validation_data=(X_test, Y_test), callbacks = [early_stopping])\n",
    "\n",
    "# evaliate model\n",
    "score = model_CNN.evaluate(X_test, Y_test, verbose=1)\n",
    "\n",
    "# print performance\n",
    "print()\n",
    "print('Test loss:', score[0])\n",
    "print('Test accuracy:', score[1])"
   ]
  },
  {
   "cell_type": "code",
   "execution_count": 11,
   "id": "7b70cf14-009e-4483-adb9-427982401c4b",
   "metadata": {},
   "outputs": [
    {
     "name": "stdout",
     "output_type": "stream",
     "text": [
      "313/313 [==============================] - 2s 7ms/step - loss: 0.0548 - acc: 0.9865\n"
     ]
    },
    {
     "data": {
      "image/png": "[encoded data removed]",
      "text/plain": [
       "<Figure size 640x480 with 1 Axes>"
      ]
     },
     "metadata": {},
     "output_type": "display_data"
    },
    {
     "data": {
      "image/png": "[encoded data removed]",
      "text/plain": [
       "<Figure size 640x480 with 1 Axes>"
      ]
     },
     "metadata": {},
     "output_type": "display_data"
    }
   ],
   "source": [
    "# evaluate model\n",
    "score = model_CNN.evaluate(X_test, Y_test, verbose=1)\n",
    "\n",
    "# look into training history\n",
    "\n",
    "# summarize history for accuracy\n",
    "plt.plot(history.history['acc'])\n",
    "plt.plot(history.history['val_acc'])\n",
    "plt.ylabel('model accuracy')\n",
    "plt.xlabel('epoch')\n",
    "plt.legend(['train', 'test'], loc='best')\n",
    "plt.show()\n",
    "\n",
    "# summarize history for loss\n",
    "plt.plot(history.history['loss'])\n",
    "plt.plot(history.history['val_loss'])\n",
    "plt.ylabel('model loss')\n",
    "plt.xlabel('epoch')\n",
    "plt.legend(['train', 'test'], loc='best')\n",
    "plt.show()"
   ]
  },
  {
   "cell_type": "code",
   "execution_count": 13,
   "id": "2dc55219-55e6-491c-af16-9ced42ac065a",
   "metadata": {},
   "outputs": [],
   "source": [
    "model_CNN.save('model_CNN.h5')"
   ]
  },
  {
   "cell_type": "code",
   "execution_count": 15,
   "id": "c5551fc5-dcac-4a21-bfa8-fcc69c2fc017",
   "metadata": {},
   "outputs": [
    {
     "name": "stdout",
     "output_type": "stream",
     "text": [
      "313/313 [==============================] - 2s 7ms/step\n"
     ]
    },
    {
     "data": {
      "image/png": "[encoded data removed]",
      "text/plain": [
       "<Figure size 1500x1500 with 10 Axes>"
      ]
     },
     "metadata": {},
     "output_type": "display_data"
    }
   ],
   "source": [
    "#X_test = X_test.reshape(X_test.shape[0], img_rows*img_cols)\n",
    "predictions = model_CNN.predict(X_test)\n",
    "\n",
    "X_test = X_test.reshape(X_test.shape[0], img_rows, img_cols,1)\n",
    "\n",
    "plt.figure(figsize=(15, 15)) \n",
    "for i in range(10):    \n",
    "    ax = plt.subplot(2, 10, i + 1)    \n",
    "    plt.imshow(X_test[2*i, :, :, 0], cmap='gray')    \n",
    "    plt.title(\"Digit: {}\\nPredicted:  {}\".format(np.argmax(Y_test[2*i]), np.argmax(predictions[2*i])))    \n",
    "    plt.axis('off') \n",
    "plt.show()"
   ]
  },
  {
   "cell_type": "markdown",
   "id": "996169e7-a91c-4442-aff7-5219afad18a8",
   "metadata": {},
   "source": [
    "All correct!"
   ]
  },
  {
   "cell_type": "markdown",
   "id": "920b6e5f-65aa-416b-acfc-04af9893c923",
   "metadata": {},
   "source": [
    "Finally, I test the CNN with digits written by myself instead of taken from the MNIST database"
   ]
  },
  {
   "cell_type": "code",
   "execution_count": 23,
   "id": "faf81273-85ce-460b-9a62-273d8e579c60",
   "metadata": {},
   "outputs": [],
   "source": [
    "from PIL import Image\n",
    "import os\n",
    "from PIL import Image, ImageOps\n",
    "\n",
    "## we need to do this thing below to help with writing the next parts\n",
    "def preprocess_image(image_path):\n",
    "    img = Image.open(image_path).convert('L')  # Convert to grayscale (even though it should already be)\n",
    "    img = img.resize((28, 28))  # Resize to 28x28\n",
    "    img = ImageOps.invert(img)  # Invert colors if necessary \n",
    "    img_array = np.array(img)  # Convert to numpy array\n",
    "    img_array = img_array / 255.0  # Normalize pixel values to [0, 1]\n",
    "    img_array = img_array.reshape(1, 28, 28, 1) # just to be safe\n",
    "    return img_array\n"
   ]
  },
  {
   "cell_type": "code",
   "execution_count": 35,
   "id": "a6e64fba-1f1a-495e-9bfa-f9bb555da04c",
   "metadata": {
    "jupyter": {
     "source_hidden": true
    }
   },
   "outputs": [
    {
     "name": "stdout",
     "output_type": "stream",
     "text": [
      "1/1 [==============================] - 0s 29ms/step\n",
      "[[0.09934644 0.10530096 0.1011944  0.10026697 0.09875221 0.10125918\n",
      "  0.101142   0.09667656 0.09878512 0.09727611]]\n",
      "1/1 [==============================] - 0s 24ms/step\n",
      "[[0.10039962 0.10293408 0.10550964 0.10193279 0.09568049 0.09455217\n",
      "  0.10243851 0.09778828 0.10095955 0.09780483]]\n",
      "1/1 [==============================] - 0s 22ms/step\n",
      "[[0.09731364 0.10331931 0.09895877 0.11379968 0.09509186 0.10419631\n",
      "  0.09461384 0.0970272  0.0962229  0.09945653]]\n",
      "1/1 [==============================] - 0s 25ms/step\n",
      "[[0.0942773  0.10142796 0.0986388  0.09964813 0.10464332 0.10345224\n",
      "  0.1000672  0.09814867 0.09930407 0.10039239]]\n",
      "1/1 [==============================] - 0s 48ms/step\n",
      "[[0.09710132 0.10192134 0.09558717 0.10441568 0.09626029 0.11119148\n",
      "  0.09995623 0.09715626 0.09689858 0.09951171]]\n",
      "1/1 [==============================] - 0s 29ms/step\n",
      "[[0.10091847 0.10207433 0.09902313 0.09820374 0.09755605 0.10482802\n",
      "  0.10976442 0.09160604 0.09834315 0.09768263]]\n",
      "1/1 [==============================] - 0s 27ms/step\n",
      "[[0.1019161  0.09983914 0.1023533  0.10054917 0.1002358  0.09651724\n",
      "  0.09546309 0.10422622 0.10073045 0.0981695 ]]\n",
      "1/1 [==============================] - 0s 24ms/step\n",
      "[[0.10144715 0.09885208 0.09900461 0.10164571 0.0972053  0.10098261\n",
      "  0.10067698 0.09533891 0.10481483 0.10003177]]\n",
      "1/1 [==============================] - 0s 21ms/step\n",
      "[[0.09939686 0.09854317 0.09874992 0.10135311 0.10223956 0.09863491\n",
      "  0.09679145 0.09877647 0.10286056 0.10265397]]\n",
      "1/1 [==============================] - 0s 41ms/step\n",
      "[[0.10725935 0.0979801  0.09904704 0.09749971 0.09928554 0.09582708\n",
      "  0.0995248  0.09804326 0.10213477 0.10339828]]\n"
     ]
    },
    {
     "data": {
      "text/plain": [
       "Text(0.5, 1.0, 'Predicted:  0')"
      ]
     },
     "execution_count": 35,
     "metadata": {},
     "output_type": "execute_result"
    },
    {
     "data": {
      "image/png": "[encoded data removed]",
      "text/plain": [
       "<Figure size 2000x1000 with 10 Axes>"
      ]
     },
     "metadata": {},
     "output_type": "display_data"
    }
   ],
   "source": [
    "plt.figure(figsize = (20,10))\n",
    "\n",
    "\n",
    "# Load and preprocess the image\n",
    "image_path = './1a.png'\n",
    "processed_image = preprocess_image(image_path)\n",
    "\n",
    "# Plot the preprocessed image\n",
    "plt.subplot(1,10,1)\n",
    "plt.imshow(processed_image.squeeze(), cmap='gray')\n",
    "\n",
    "\n",
    "# Predict using  model\n",
    "predictions = model_CNN.predict(processed_image)\n",
    "print(predictions)\n",
    "plt.title(\"Predicted:  {}\".format(np.argmax(predictions)))    \n",
    "##################################################################\n",
    "# Load and preprocess the image\n",
    "image_path = './2.png'\n",
    "processed_image = preprocess_image(image_path)\n",
    "\n",
    "# Plot the preprocessed image\n",
    "plt.subplot(1,10,2)\n",
    "plt.imshow(processed_image.squeeze(), cmap='gray')\n",
    "\n",
    "\n",
    "# Predict using  model\n",
    "predictions = model_CNN.predict(processed_image)\n",
    "print(predictions)\n",
    "plt.title(\"Predicted:  {}\".format(np.argmax(predictions)))    \n",
    "##################################################################\n",
    "# Load and preprocess the image\n",
    "image_path = './3.png'\n",
    "processed_image = preprocess_image(image_path)\n",
    "\n",
    "# Plot the preprocessed image\n",
    "plt.subplot(1,10,3)\n",
    "plt.imshow(processed_image.squeeze(), cmap='gray')\n",
    "\n",
    "\n",
    "# Predict using  model\n",
    "predictions = model_CNN.predict(processed_image)\n",
    "print(predictions)\n",
    "plt.title(\"Predicted:  {}\".format(np.argmax(predictions)))    \n",
    "##################################################################\n",
    "# Load and preprocess the image\n",
    "image_path = './4.png'\n",
    "processed_image = preprocess_image(image_path)\n",
    "\n",
    "# Plot the preprocessed image\n",
    "plt.subplot(1,10,4)\n",
    "plt.imshow(processed_image.squeeze(), cmap='gray')\n",
    "\n",
    "\n",
    "# Predict using  model\n",
    "predictions = model_CNN.predict(processed_image)\n",
    "print(predictions)\n",
    "plt.title(\"Predicted:  {}\".format(np.argmax(predictions)))    \n",
    "##################################################################\n",
    "# Load and preprocess the image\n",
    "image_path = './5.png'\n",
    "processed_image = preprocess_image(image_path)\n",
    "\n",
    "# Plot the preprocessed image\n",
    "plt.subplot(1,10,5)\n",
    "plt.imshow(processed_image.squeeze(), cmap='gray')\n",
    "\n",
    "\n",
    "# Predict using  model\n",
    "predictions = model_CNN.predict(processed_image)\n",
    "print(predictions)\n",
    "plt.title(\"Predicted:  {}\".format(np.argmax(predictions)))    \n",
    "##################################################################\n",
    "# Load and preprocess the image\n",
    "image_path = './6.png'\n",
    "processed_image = preprocess_image(image_path)\n",
    "\n",
    "# Plot the preprocessed image\n",
    "plt.subplot(1,10,6)\n",
    "plt.imshow(processed_image.squeeze(), cmap='gray')\n",
    "\n",
    "\n",
    "\n",
    "# Predict using  model\n",
    "predictions = model_CNN.predict(processed_image)\n",
    "print(predictions)\n",
    "plt.title(\"Predicted:  {}\".format(np.argmax(predictions)))    \n",
    "##################################################################\n",
    "# Load and preprocess the image\n",
    "image_path = './7.png'\n",
    "processed_image = preprocess_image(image_path)\n",
    "\n",
    "# Plot the preprocessed image\n",
    "plt.subplot(1,10,7)\n",
    "plt.imshow(processed_image.squeeze(), cmap='gray')\n",
    "\n",
    "\n",
    "# Predict using  model\n",
    "predictions = model_CNN.predict(processed_image)\n",
    "print(predictions)\n",
    "plt.title(\"Predicted:  {}\".format(np.argmax(predictions)))    \n",
    "##################################################################\n",
    "# Load and preprocess the image\n",
    "image_path = './8.png'\n",
    "processed_image = preprocess_image(image_path)\n",
    "\n",
    "# Plot the preprocessed image\n",
    "plt.subplot(1,10,8)\n",
    "plt.imshow(processed_image.squeeze(), cmap='gray')\n",
    "\n",
    "\n",
    "# Predict using  model\n",
    "predictions = model_CNN.predict(processed_image)\n",
    "print(predictions)\n",
    "plt.title(\"Predicted:  {}\".format(np.argmax(predictions)))    \n",
    "##################################################################\n",
    "# Load and preprocess the image\n",
    "image_path = './9.png'\n",
    "processed_image = preprocess_image(image_path)\n",
    "\n",
    "# Plot the preprocessed image\n",
    "plt.subplot(1,10,9)\n",
    "plt.imshow(processed_image.squeeze(), cmap='gray')\n",
    "\n",
    "\n",
    "# Predict using  model\n",
    "predictions = model_CNN.predict(processed_image)\n",
    "print(predictions)\n",
    "plt.title(\"Predicted:  {}\".format(np.argmax(predictions)))    \n",
    "##################################################################\n",
    "# Load and preprocess the image\n",
    "image_path = './0b.png'\n",
    "processed_image = preprocess_image(image_path)\n",
    "\n",
    "# Plot the preprocessed image\n",
    "plt.subplot(1,10,10)\n",
    "plt.imshow(processed_image.squeeze(), cmap='gray')\n",
    "\n",
    "\n",
    "# Predict using  model\n",
    "predictions = model_CNN.predict(processed_image)\n",
    "print(predictions)\n",
    "plt.title(\"Predicted:  {}\".format(np.argmax(predictions)))    \n",
    "##################################################################\n",
    "\n",
    "\n",
    "##################################################################"
   ]
  },
  {
   "cell_type": "markdown",
   "id": "8165c517-4b43-4523-b271-2367fb126f61",
   "metadata": {},
   "source": [
    "Almost perfect! Maybe my '9' is too different from the database (?)\n",
    "\n",
    "Anyway the model while not perfect took a few minutes to train and learned decently"
   ]
  },
  {
   "cell_type": "code",
   "execution_count": null,
   "id": "611f0211-9ea3-44de-aad1-42c70e319674",
   "metadata": {},
   "outputs": [],
   "source": []
  }
 ],
 "metadata": {
  "kernelspec": {
   "display_name": "Python 3 (ipykernel)",
   "language": "python",
   "name": "python3"
  },
  "language_info": {
   "codemirror_mode": {
    "name": "ipython",
    "version": 3
   },
   "file_extension": ".py",
   "mimetype": "text/x-python",
   "name": "python",
   "nbconvert_exporter": "python",
   "pygments_lexer": "ipython3",
   "version": "3.11.5"
  }
 },
 "nbformat": 4,
 "nbformat_minor": 5
}
