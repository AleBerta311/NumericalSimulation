{
 "cells": [
  {
   "cell_type": "markdown",
   "id": "86c380bb-1e75-4d64-998b-5e8c03287f7f",
   "metadata": {},
   "source": [
    "# <span style=\"color:green\"> Numerical Simulation Laboratory (NSL) Lecture 1 </span>"
   ]
  },
  {
   "cell_type": "markdown",
   "id": "7818e4de-069d-4caf-8458-409a21936d33",
   "metadata": {},
   "source": [
    "### Exercise 1.1\n",
    "- Test the random number generator"
   ]
  },
  {
   "cell_type": "code",
   "execution_count": null,
   "id": "1544a9e2-6cd1-4eba-83de-55ede32a890d",
   "metadata": {},
   "outputs": [],
   "source": []
  }
 ],
 "metadata": {
  "kernelspec": {
   "display_name": "Python 3 (ipykernel)",
   "language": "python",
   "name": "python3"
  },
  "language_info": {
   "codemirror_mode": {
    "name": "ipython",
    "version": 3
   },
   "file_extension": ".py",
   "mimetype": "text/x-python",
   "name": "python",
   "nbconvert_exporter": "python",
   "pygments_lexer": "ipython3",
   "version": "3.9.18"
  }
 },
 "nbformat": 4,
 "nbformat_minor": 5
}
